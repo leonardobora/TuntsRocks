{
  "nbformat": 4,
  "nbformat_minor": 0,
  "metadata": {
    "colab": {
      "provenance": []
    },
    "kernelspec": {
      "name": "python3",
      "display_name": "Python 3"
    },
    "language_info": {
      "name": "python"
    }
  },
  "cells": [
    {
      "cell_type": "code",
      "execution_count": null,
      "metadata": {
        "colab": {
          "base_uri": "https://localhost:8080/"
        },
        "id": "BPSJ1nvjmXgY",
        "outputId": "53d59a95-0537-4870-fe26-362af73f0656"
      },
      "outputs": [
        {
          "output_type": "stream",
          "name": "stdout",
          "text": [
            "Registration: 1, Student: Eduardo, Status: Approved, Grade for Final Approval: 0\n",
            "Registration: 2, Student: Murilo, Status: Approved, Grade for Final Approval: 0\n",
            "Registration: 3, Student: Guilherme, Status: Reproved due to Absences, Grade for Final Approval: 0\n",
            "Registration: 4, Student: Flavia, Status: Reproved due to Absences, Grade for Final Approval: 0\n",
            "Registration: 5, Student: Ruan, Status: Approved, Grade for Final Approval: 0\n",
            "Registration: 6, Student: Arnando, Status: Reproved due to Absences, Grade for Final Approval: 0\n",
            "Registration: 7, Student: Lucas, Status: Approved, Grade for Final Approval: 0\n",
            "Registration: 8, Student: Fabio, Status: Approved, Grade for Final Approval: 0\n",
            "Registration: 9, Student: Alisson, Status: Approved, Grade for Final Approval: 0\n",
            "Registration: 10, Student: Felipe, Status: Approved, Grade for Final Approval: 0\n",
            "Registration: 11, Student: Rachel, Status: Approved, Grade for Final Approval: 0\n",
            "Registration: 12, Student: Jouy, Status: Approved, Grade for Final Approval: 0\n",
            "Registration: 13, Student: François, Status: Reproved due to Absences, Grade for Final Approval: 0\n",
            "Registration: 14, Student: Dâmaris, Status: Approved, Grade for Final Approval: 0\n",
            "Registration: 15, Student: Leonardo, Status: Reproved due to Absences, Grade for Final Approval: 0\n",
            "Registration: 16, Student: Guilherme, Status: Approved, Grade for Final Approval: 0\n",
            "Registration: 17, Student: Wesley, Status: Reproved due to Absences, Grade for Final Approval: 0\n",
            "Registration: 18, Student: Yuri, Status: Approved, Grade for Final Approval: 0\n",
            "Registration: 19, Student: Kira, Status: Approved, Grade for Final Approval: 0\n",
            "Registration: 20, Student: Cleici, Status: Reproved due to Absences, Grade for Final Approval: 0\n",
            "Registration: 21, Student: João Moacir, Status: Reproved due to Absences, Grade for Final Approval: 0\n",
            "Registration: 22, Student: Bruno, Status: Approved, Grade for Final Approval: 0\n",
            "Registration: 23, Student: Elcio, Status: Approved, Grade for Final Approval: 0\n",
            "Registration: 24, Student: Criscia, Status: Approved, Grade for Final Approval: 0\n"
          ]
        }
      ],
      "source": [
        "import math\n",
        "\n",
        "# Dados dos estudante\n",
        "students = [\n",
        "    {\"Registration\": 1, \"Student\": \"Eduardo\", \"Absences\": 8, \"P1\": 35, \"P2\": 63, \"P3\": 61},\n",
        "    {\"Registration\": 2, \"Student\": \"Murilo\", \"Absences\": 8, \"P1\": 64, \"P2\": 97, \"P3\": 36},\n",
        "    {\"Registration\": 3, \"Student\": \"Guilherme\", \"Absences\": 19, \"P1\": 68, \"P2\": 74, \"P3\": 51},\n",
        "    {\"Registration\": 4, \"Student\": \"Flavia\", \"Absences\": 23, \"P1\": 66, \"P2\": 98, \"P3\": 62},\n",
        "    {\"Registration\": 5, \"Student\": \"Ruan\", \"Absences\": 13, \"P1\": 80, \"P2\": 65, \"P3\": 41},\n",
        "    {\"Registration\": 6, \"Student\": \"Arnando\", \"Absences\": 23, \"P1\": 83, \"P2\": 68, \"P3\": 77},\n",
        "    {\"Registration\": 7, \"Student\": \"Lucas\", \"Absences\": 5, \"P1\": 38, \"P2\": 53, \"P3\": 80},\n",
        "    {\"Registration\": 8, \"Student\": \"Fabio\", \"Absences\": 10, \"P1\": 53, \"P2\": 96, \"P3\": 89},\n",
        "    {\"Registration\": 9, \"Student\": \"Alisson\", \"Absences\": 15, \"P1\": 45, \"P2\": 61, \"P3\": 68},\n",
        "    {\"Registration\": 10, \"Student\": \"Felipe\", \"Absences\": 12, \"P1\": 32, \"P2\": 41, \"P3\": 85},\n",
        "    {\"Registration\": 11, \"Student\": \"Rachel\", \"Absences\": 11, \"P1\": 84, \"P2\": 66, \"P3\": 39},\n",
        "    {\"Registration\": 12, \"Student\": \"Jouy\", \"Absences\": 13, \"P1\": 42, \"P2\": 93, \"P3\": 57},\n",
        "    {\"Registration\": 13, \"Student\": \"François\", \"Absences\": 19, \"P1\": 59, \"P2\": 87, \"P3\": 89},\n",
        "    {\"Registration\": 14, \"Student\": \"Dâmaris\", \"Absences\": 10, \"P1\": 44, \"P2\": 50, \"P3\": 62},\n",
        "    {\"Registration\": 15, \"Student\": \"Leonardo\", \"Absences\": 16, \"P1\": 83, \"P2\": 92, \"P3\": 32},\n",
        "    {\"Registration\": 16, \"Student\": \"Guilherme\", \"Absences\": 6, \"P1\": 36, \"P2\": 38, \"P3\": 76},\n",
        "    {\"Registration\": 17, \"Student\": \"Wesley\", \"Absences\": 16, \"P1\": 41, \"P2\": 52, \"P3\": 87},\n",
        "    {\"Registration\": 18, \"Student\": \"Yuri\", \"Absences\": 2, \"P1\": 87, \"P2\": 75, \"P3\": 50},\n",
        "    {\"Registration\": 19, \"Student\": \"Kira\", \"Absences\": 8, \"P1\": 36, \"P2\": 46, \"P3\": 48},\n",
        "    {\"Registration\": 20, \"Student\": \"Cleici\", \"Absences\": 22, \"P1\": 91, \"P2\": 88, \"P3\": 92},\n",
        "    {\"Registration\": 21, \"Student\": \"João Moacir\", \"Absences\": 23, \"P1\": 38, \"P2\": 90, \"P3\": 98},\n",
        "    {\"Registration\": 22, \"Student\": \"Bruno\", \"Absences\": 15, \"P1\": 96, \"P2\": 37, \"P3\": 100},\n",
        "    {\"Registration\": 23, \"Student\": \"Elcio\", \"Absences\": 9, \"P1\": 73, \"P2\": 71, \"P3\": 75},\n",
        "    {\"Registration\": 24, \"Student\": \"Criscia\", \"Absences\": 0, \"P1\": 50, \"P2\": 95, \"P3\": 84},\n",
        "]\n",
        "\n",
        "total_classes = 60\n",
        "exams = [\"P1\", \"P2\", \"P3\"]\n",
        "\n",
        "for student in students:\n",
        "    # Calcula a média\n",
        "    average = sum(student[exam] for exam in exams) / len(exams)\n",
        "\n",
        "    # Verifica a situação do aluno\n",
        "    if student[\"Absences\"] > total_classes * 0.25:\n",
        "        status = \"Reproved due to Absences\"\n",
        "        naf = 0\n",
        "    elif average < 5:\n",
        "        status = \"Reproved by Grade\"\n",
        "        naf = 0\n",
        "    elif average < 7:\n",
        "        status = \"Final Exam\"\n",
        "        naf = math.ceil(10 - average)  # Arredondamento da nota\n",
        "    else:\n",
        "        status = \"Approved\"\n",
        "        naf = 0\n",
        "\n",
        "    # Atualiza o dicionário de estudantes com o seu status final e a nota necessária para ser aprovado\n",
        "    student[\"Status\"] = status\n",
        "    student[\"Grade for Final Approval\"] = naf\n",
        "\n",
        "# Imprime os resultados\n",
        "for student in students:\n",
        "    print(f\"Registration: {student['Registration']}, Student: {student['Student']}, Status: {student['Status']}, Grade for Final Approval: {student['Grade for Final Approval']}\")\n"
      ]
    }
  ]
}